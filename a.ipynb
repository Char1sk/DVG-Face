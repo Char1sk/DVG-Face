{
 "cells": [
  {
   "cell_type": "code",
   "execution_count": 1,
   "metadata": {},
   "outputs": [],
   "source": [
    "import torch"
   ]
  },
  {
   "cell_type": "code",
   "execution_count": 5,
   "metadata": {},
   "outputs": [
    {
     "name": "stdout",
     "output_type": "stream",
     "text": [
      "tensor([[ 0.8740,  0.6352, -0.3717, -0.7537],\n",
      "        [-2.1434, -0.7873,  0.6904, -0.2229],\n",
      "        [-0.2988,  0.0783,  0.9859,  1.0860],\n",
      "        [ 0.5822,  2.4098,  0.4975,  0.7772],\n",
      "        [ 0.1802, -0.7639, -0.0119, -0.7405]])\n",
      "torch.Size([5, 4])\n",
      "tensor(2.7027)\n"
     ]
    }
   ],
   "source": [
    "a = torch.randn(5, 4)\n",
    "print(a)\n",
    "# print(a.mul_(10))\n",
    "b = a[:5]\n",
    "print(b.shape)\n",
    "c = b.view(-1).float().sum(0)\n",
    "print(c)"
   ]
  },
  {
   "cell_type": "code",
   "execution_count": null,
   "metadata": {},
   "outputs": [],
   "source": []
  }
 ],
 "metadata": {
  "interpreter": {
   "hash": "88fca90cd92d6bb6325d5439d8f6458e3f467319bab4ef21ef4d4f5068a0f316"
  },
  "kernelspec": {
   "display_name": "Python 3.6.13 ('ml')",
   "language": "python",
   "name": "python3"
  },
  "language_info": {
   "codemirror_mode": {
    "name": "ipython",
    "version": 3
   },
   "file_extension": ".py",
   "mimetype": "text/x-python",
   "name": "python",
   "nbconvert_exporter": "python",
   "pygments_lexer": "ipython3",
   "version": "3.6.13"
  },
  "orig_nbformat": 4
 },
 "nbformat": 4,
 "nbformat_minor": 2
}
